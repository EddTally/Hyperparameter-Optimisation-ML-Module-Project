{
 "cells": [
  {
   "cell_type": "markdown",
   "metadata": {},
   "source": [
    "# Project"
   ]
  },
  {
   "cell_type": "markdown",
   "metadata": {},
   "source": [
    "### Perform cross-validation to set the Gamma/C parameters of an RBF SVM, on different datasets. Write a report on how the optimal gamma parameter is affected by characteristics of the dataset, e.g.   number  of  features  or  number  of  examples  provided  in  training  data. "
   ]
  },
  {
   "cell_type": "code",
   "execution_count": 7,
   "metadata": {},
   "outputs": [],
   "source": [
    "from sklearn import linear_model, model_selection, datasets, preprocessing, metrics\n",
    "from sklearn.svm import SVC\n",
    "from sklearn.pipeline import make_pipeline\n",
    "from sklearn.utils import shuffle\n",
    "from sklearn.model_selection import GridSearchCV, cross_val_score, KFold\n",
    "from sklearn.metrics import roc_curve, roc_auc_score, auc\n",
    "from scipy import stats\n",
    "from matplotlib import pyplot as plt\n",
    "import pandas as pd\n",
    "import numpy as np\n",
    "\n",
    "from itertools import cycle\n",
    "from sklearn.preprocessing import label_binarize\n",
    "from sklearn.multiclass import OneVsRestClassifier\n",
    "from scipy import interp"
   ]
  },
  {
   "cell_type": "markdown",
   "metadata": {},
   "source": [
    "#### New dataset trials"
   ]
  },
  {
   "cell_type": "raw",
   "metadata": {},
   "source": [
    "Quick function to quickly calculate how many of each class are in the datasets and to split data and labels"
   ]
  },
  {
   "cell_type": "code",
   "execution_count": 8,
   "metadata": {},
   "outputs": [],
   "source": [
    "def class_counter(labels):\n",
    "    class1_count, class2_count = 0, 0\n",
    "\n",
    "    for i in range(len(labels)):\n",
    "        z = labels[0]\n",
    "        if labels[i]==z:\n",
    "            class1_count += 1\n",
    "        else:\n",
    "            class2_count += 1\n",
    "        i += 1\n",
    "    \n",
    "    return print(\"Class 1: %d, Class 2: %d\" % (class1_count, class2_count))"
   ]
  },
  {
   "cell_type": "code",
   "execution_count": 9,
   "metadata": {},
   "outputs": [],
   "source": [
    "def splitXy(dataset):\n",
    "    dataset = dataset.astype(float)\n",
    "    X=dataset.iloc[:, 1:-1].values\n",
    "    y=dataset.iloc[:, -1].values\n",
    "    return X, y"
   ]
  },
  {
   "cell_type": "markdown",
   "metadata": {},
   "source": [
    "##### ROC"
   ]
  },
  {
   "cell_type": "code",
   "execution_count": 10,
   "metadata": {},
   "outputs": [],
   "source": [
    "#http://scikit-learn.org/stable/auto_examples/model_selection/plot_roc.html#sphx-glr-auto-examples-model-selection-plot-roc-py"
   ]
  },
  {
   "cell_type": "code",
   "execution_count": 39,
   "metadata": {},
   "outputs": [
    {
     "name": "stderr",
     "output_type": "stream",
     "text": [
      "E:\\EDD\\Anaconda3\\lib\\site-packages\\sklearn\\multiclass.py:76: UserWarning: Label not 2 is present in all training examples.\n",
      "  str(classes[c]))\n",
      "E:\\EDD\\Anaconda3\\lib\\site-packages\\sklearn\\metrics\\ranking.py:571: UndefinedMetricWarning: No positive samples in y_true, true positive value should be meaningless\n",
      "  UndefinedMetricWarning)\n"
     ]
    }
   ],
   "source": [
    "clean_unbal = pd.read_csv('./datasets/clean_unbalanced.csv', header=None)\n",
    "\n",
    "clean_unbal = clean_unbal.sample(frac=1).reset_index(drop=True)\n",
    "X, y = splitXy(clean_unbal)\n",
    "\n",
    "# Unfortunatley no way to scale the training and testing kfolds individually...\n",
    "min_max_scaler = preprocessing.MinMaxScaler()\n",
    "X = min_max_scaler.fit_transform(X)\n",
    "\n",
    "# Binarize the output\n",
    "y = label_binarize(y, classes=[0, 1, 2])\n",
    "n_classes = y.shape[1]\n",
    "\n",
    "# shuffle and split training and test sets\n",
    "X_train, X_test, y_train, y_test = model_selection.train_test_split(X[0:2000], y[0:2000], test_size=0.5,\n",
    "                                                    random_state=5)\n",
    "\n",
    "# Learn to predict each class against the other\n",
    "clf = OneVsRestClassifier(SVC(kernel='rbf', probability=True,\n",
    "                                 random_state=5, C=8.2, gamma=0.244))\n",
    "y_score = clf.fit(X_train, y_train).decision_function(X_test)\n",
    "\n",
    "# Compute ROC curve and ROC area for each class\n",
    "fpr = dict()\n",
    "tpr = dict()\n",
    "roc_auc = dict()\n",
    "for i in range(n_classes):\n",
    "    fpr[i], tpr[i], _ = roc_curve(y_test[:, i], y_score[:, i])\n",
    "    roc_auc[i] = auc(fpr[i], tpr[i])\n",
    "\n",
    "# Compute micro-average ROC curve and ROC area\n",
    "fpr[\"micro\"], tpr[\"micro\"], _ = roc_curve(y_test.ravel(), y_score.ravel())\n",
    "roc_auc[\"micro\"] = auc(fpr[\"micro\"], tpr[\"micro\"])"
   ]
  },
  {
   "cell_type": "code",
   "execution_count": 42,
   "metadata": {},
   "outputs": [
    {
     "data": {
      "image/png": "[encoded data removed]",
      "text/plain": [
       "<Figure size 432x288 with 1 Axes>"
      ]
     },
     "metadata": {},
     "output_type": "display_data"
    }
   ],
   "source": [
    "# Compute macro-average ROC curve and ROC area\n",
    "\n",
    "# First aggregate all false positive rates\n",
    "all_fpr = np.unique(np.concatenate([fpr[i] for i in range(n_classes)]))\n",
    "\n",
    "# Then interpolate all ROC curves at this points\n",
    "mean_tpr = np.zeros_like(all_fpr)\n",
    "for i in range(n_classes):\n",
    "    mean_tpr += interp(all_fpr, fpr[i], tpr[i])\n",
    "\n",
    "# Finally average it and compute AUC\n",
    "mean_tpr /= n_classes\n",
    "\n",
    "fpr[\"macro\"] = all_fpr\n",
    "tpr[\"macro\"] = mean_tpr\n",
    "roc_auc[\"macro\"] = auc(fpr[\"macro\"], tpr[\"macro\"])\n",
    "lw = 2\n",
    "# Plot all ROC curves\n",
    "colors = cycle(['aqua', 'darkorange', 'cornflowerblue'])\n",
    "for i, color in zip(range(n_classes-1), colors):\n",
    "    plt.plot(fpr[i], tpr[i], color=color, lw=lw,\n",
    "             label='ROC curve of class {0} (area = {1:0.2f})'\n",
    "             ''.format(i, roc_auc[i]))\n",
    "    \n",
    "plt.plot([0, 1], [0, 1], 'k--', lw=lw)\n",
    "plt.xlim([-0.05, 1.0])\n",
    "plt.ylim([0.0, 1.05])\n",
    "plt.xlabel('False Positive Rate')\n",
    "plt.ylabel('True Positive Rate')\n",
    "plt.title('Musk Molecule V2 ROC Curve')\n",
    "plt.legend(loc=\"lower right\")\n",
    "plt.show()"
   ]
  },
  {
   "cell_type": "markdown",
   "metadata": {},
   "source": [
    "##### Breast Cancer"
   ]
  },
  {
   "cell_type": "code",
   "execution_count": 13,
   "metadata": {},
   "outputs": [
    {
     "name": "stdout",
     "output_type": "stream",
     "text": [
      "683\n",
      "11\n",
      "Class 1: 444, Class 2: 239\n",
      "0.07353520362544286\n"
     ]
    }
   ],
   "source": [
    "bc = pd.read_csv('./datasets/breast-cancer-wisconsin.csv', header=None)\n",
    "#print(bc.head())\n",
    "\n",
    "print(len(bc.index))\n",
    "print(len(bc.columns))\n",
    "\n",
    "X, y = splitXy(bc)\n",
    "class_counter(y)       \n",
    "\n",
    "X_train, X_test, y_train, y_test = model_selection.train_test_split(\n",
    "            X, y, test_size=0.5, random_state=5)\n",
    "\n",
    "clf = make_pipeline(preprocessing.MinMaxScaler(), SVC(gamma=0.06, C=8, kernel='rbf'))\n",
    "clf.fit(X_train, y_train)\n",
    "y_pred_decision = clf.decision_function(X_test)\n",
    "hinge_loss = metrics.hinge_loss(y_test, y_pred_decision)\n",
    "\n",
    "print(hinge_loss)"
   ]
  },
  {
   "cell_type": "markdown",
   "metadata": {},
   "source": [
    "##### wifi"
   ]
  },
  {
   "cell_type": "code",
   "execution_count": 14,
   "metadata": {},
   "outputs": [
    {
     "name": "stdout",
     "output_type": "stream",
     "text": [
      "2000\n",
      "8\n",
      "Class 1: 500, Class 2: 1500\n",
      "0.0731903829427736\n"
     ]
    }
   ],
   "source": [
    "wifi = pd.read_csv('./datasets/wifi.csv', header=None)\n",
    "#print(wifi.head())\n",
    "\n",
    "print(len(wifi.index))\n",
    "print(len(wifi.columns))\n",
    "\n",
    "X, y = splitXy(wifi)\n",
    "\n",
    "class_counter(y)\n",
    "\n",
    "X_train, X_test, y_train, y_test = model_selection.train_test_split(\n",
    "            X, y, test_size=0.5, random_state=5)\n",
    "\n",
    "clf = make_pipeline(preprocessing.MinMaxScaler(), SVC(gamma=0.06, C=8, kernel='rbf'))\n",
    "clf.fit(X_train, y_train)\n",
    "y_pred_decision = clf.decision_function(X_test)\n",
    "hinge_loss = metrics.hinge_loss(y_test, y_pred_decision)\n",
    "\n",
    "print(hinge_loss)\n"
   ]
  },
  {
   "cell_type": "markdown",
   "metadata": {},
   "source": [
    "#### Banknotes "
   ]
  },
  {
   "cell_type": "code",
   "execution_count": 15,
   "metadata": {},
   "outputs": [
    {
     "name": "stdout",
     "output_type": "stream",
     "text": [
      "1372\n",
      "5\n",
      "Class 1: 762, Class 2: 610\n",
      "0.46745370492068505\n"
     ]
    }
   ],
   "source": [
    "bank = pd.read_csv('./datasets/data_banknote_authentication.csv', header=None)\n",
    "\n",
    "print(len(bank.index))\n",
    "print(len(bank.columns))\n",
    "\n",
    "X, y = splitXy(bank)\n",
    "\n",
    "class_counter(y)\n",
    "\n",
    "X_train, X_test, y_train, y_test = model_selection.train_test_split(\n",
    "            X, y, test_size=0.5, random_state=5)\n",
    "\n",
    "clf = make_pipeline(preprocessing.MinMaxScaler(), SVC(gamma=0.06, C=8, kernel='rbf'))\n",
    "clf.fit(X_train, y_train)\n",
    "y_pred_decision = clf.decision_function(X_test)\n",
    "hinge_loss = metrics.hinge_loss(y_test, y_pred_decision)\n",
    "\n",
    "print(hinge_loss)\n"
   ]
  },
  {
   "cell_type": "raw",
   "metadata": {},
   "source": [
    "Less features = bigger hinge loss?"
   ]
  },
  {
   "cell_type": "markdown",
   "metadata": {},
   "source": [
    "#### Musk Molecule dataset"
   ]
  },
  {
   "cell_type": "markdown",
   "metadata": {},
   "source": [
    "##### Balanced Version"
   ]
  },
  {
   "cell_type": "code",
   "execution_count": 16,
   "metadata": {},
   "outputs": [
    {
     "name": "stdout",
     "output_type": "stream",
     "text": [
      "476\n",
      "167\n",
      "Class 1: 207, Class 2: 269\n",
      "0.4020244947602689\n"
     ]
    }
   ],
   "source": [
    "clean_bal = pd.read_csv('./datasets/clean_balanced.csv', header=None)\n",
    "#print(clean_bal.head())\n",
    "\n",
    "print(len(clean_bal.index))\n",
    "print(len(clean_bal.columns))\n",
    "\n",
    "X, y = splitXy(clean_bal)\n",
    "\n",
    "class_counter(y)\n",
    "\n",
    "X_train, X_test, y_train, y_test = model_selection.train_test_split(\n",
    "            X, y, test_size=0.5, random_state=5)\n",
    "\n",
    "clf = make_pipeline(preprocessing.MinMaxScaler(), SVC(gamma=0.06, C=8, kernel='rbf'))\n",
    "clf.fit(X_train, y_train)\n",
    "y_pred_decision = clf.decision_function(X_test)\n",
    "hinge_loss = metrics.hinge_loss(y_test, y_pred_decision)\n",
    "\n",
    "print(hinge_loss)\n",
    "\n"
   ]
  },
  {
   "cell_type": "raw",
   "metadata": {},
   "source": [
    "More features = bigger hinge loss?\n",
    "Lets check that ROC thing"
   ]
  },
  {
   "cell_type": "markdown",
   "metadata": {},
   "source": [
    "##### Unbalanced version shuffled using same amount of data"
   ]
  },
  {
   "cell_type": "code",
   "execution_count": 17,
   "metadata": {},
   "outputs": [
    {
     "name": "stdout",
     "output_type": "stream",
     "text": [
      "6598\n",
      "167\n",
      "Class 1: 5581, Class 2: 1017\n",
      "0.16781277189889238\n"
     ]
    }
   ],
   "source": [
    "clean_unbal = pd.read_csv('./datasets/clean_unbalanced.csv', header=None)\n",
    "\n",
    "print(len(clean_unbal.index))\n",
    "print(len(clean_unbal.columns))\n",
    "\n",
    "clean_unbal = clean_unbal.sample(frac=1).reset_index(drop=True)\n",
    "X, y = splitXy(clean_unbal)\n",
    "\n",
    "class_counter(y)\n",
    "\n",
    "# Uses same amount of data \n",
    "X_train, X_test, y_train, y_test = model_selection.train_test_split(\n",
    "            X[0:476], y[0:476], test_size=0.5, random_state=5)\n",
    "\n",
    "clf = make_pipeline(preprocessing.MinMaxScaler(), SVC(gamma=0.06, C=8, kernel='rbf'))\n",
    "clf.fit(X_train, y_train)\n",
    "y_pred_decision = clf.decision_function(X_test)\n",
    "hinge_loss = metrics.hinge_loss(y_test, y_pred_decision)\n",
    "\n",
    "print(hinge_loss)\n",
    "\n"
   ]
  },
  {
   "cell_type": "markdown",
   "metadata": {},
   "source": [
    "##### Unbalanced version using different amount of data"
   ]
  },
  {
   "cell_type": "code",
   "execution_count": 18,
   "metadata": {},
   "outputs": [
    {
     "name": "stdout",
     "output_type": "stream",
     "text": [
      "6598\n",
      "0.06825219451399508\n"
     ]
    }
   ],
   "source": [
    "print(len(clean_unbal.index))\n",
    "#Shuffling dataFrame\n",
    "clean_unbal = clean_unbal.sample(frac=1).reset_index(drop=True)\n",
    "\n",
    "X_train, X_test, y_train, y_test = model_selection.train_test_split(\n",
    "            X, y, test_size=0.5, random_state=5)\n",
    "\n",
    "clf = make_pipeline(preprocessing.MinMaxScaler(), SVC(gamma=0.06, C=8, kernel='rbf'))\n",
    "clf.fit(X_train, y_train)\n",
    "y_pred_decision = clf.decision_function(X_test)\n",
    "hinge_loss = metrics.hinge_loss(y_test, y_pred_decision)\n",
    "\n",
    "print(hinge_loss)\n"
   ]
  },
  {
   "cell_type": "markdown",
   "metadata": {},
   "source": [
    "### Nested CV"
   ]
  },
  {
   "cell_type": "code",
   "execution_count": 19,
   "metadata": {},
   "outputs": [],
   "source": [
    "#The code below was taken from this webpage\n",
    "#http://scikit-learn.org/stable/auto_examples/model_selection/plot_nested_cross_validation_iris.html#sphx-glr-\n",
    "#auto-examples-model-selection-plot-nested-cross-validation-iris-py"
   ]
  },
  {
   "cell_type": "code",
   "execution_count": 30,
   "metadata": {},
   "outputs": [
    {
     "name": "stdout",
     "output_type": "stream",
     "text": [
      "Average difference of 0.001500 with std. dev. of 0.000866.\n",
      "0.9710000000000001\n"
     ]
    }
   ],
   "source": [
    "clean_unbal = pd.read_csv('./datasets/clean_unbalanced.csv', header=None)\n",
    "#Shuffling dataFrame\n",
    "clean_unbal = clean_unbal.sample(frac=1).reset_index(drop=True)\n",
    "X, y = splitXy(clean_unbal)\n",
    "\n",
    "# Unfortunatley no way to scale the training and testing kfolds individually...\n",
    "min_max_scaler = preprocessing.MinMaxScaler()\n",
    "X = min_max_scaler.fit_transform(X)\n",
    "\n",
    "NUM_TRIALS = 10\n",
    "\n",
    "# Set up possible values of parameters to optimize over\n",
    "p_grid = {\"C\": [8, 8.2, 8.3, 8.5],\n",
    "          \"gamma\": [0.22, 0.25, 0.27, 0.29]}\n",
    "\n",
    "# We will use a Support Vector Classifier with \"rbf\" kernel\n",
    "svm = SVC(kernel=\"rbf\")\n",
    "\n",
    "# Array to store scores\n",
    "non_nested_scores = np.zeros(NUM_TRIALS)\n",
    "nested_scores = np.zeros(NUM_TRIALS)\n",
    "best_C = np.zeros(NUM_TRIALS)\n",
    "best_gamma = np.zeros(NUM_TRIALS)\n",
    "\n",
    "# Loop for each trial\n",
    "for i in range(NUM_TRIALS):\n",
    "\n",
    "    # Choose cross-validation techniques for the inner and outer loops,\n",
    "    # independently of the dataset.\n",
    "    # E.g \"GroupKFold\", \"LeaveOneOut\", \"LeaveOneGroupOut\", etc.\n",
    "    inner_cv = KFold(n_splits=5, shuffle=True, random_state=i)\n",
    "    outer_cv = KFold(n_splits=5, shuffle=True, random_state=i)\n",
    "    \n",
    "\n",
    "    # Non_nested parameter search and scoring\n",
    "    clf = GridSearchCV(estimator=svm, param_grid=p_grid, cv=inner_cv)    \n",
    "    clf.fit(X[0:2000], y[0:2000])\n",
    "    non_nested_scores[i] = clf.best_score_\n",
    "    \n",
    "    # Best C and Gamma\n",
    "    best_C[i] = clf.best_estimator_.C\n",
    "    best_gamma[i] = clf.best_estimator_.gamma\n",
    "\n",
    "    # Nested CV with parameter optimization\n",
    "    nested_score = cross_val_score(clf, X[0:2000], y[0:2000], cv=outer_cv)\n",
    "    nested_scores[i] = nested_score.mean()\n",
    "    \n",
    "score_difference = non_nested_scores - nested_scores\n",
    "\n",
    "print(\"Average difference of {0:6f} with std. dev. of {1:6f}.\"\n",
    "      .format(score_difference.mean(), score_difference.std()))\n",
    "\n",
    "print(np.mean(nested_score))"
   ]
  },
  {
   "cell_type": "code",
   "execution_count": 31,
   "metadata": {},
   "outputs": [
    {
     "name": "stdout",
     "output_type": "stream",
     "text": [
      "[8.  8.  8.2 8.5 8.2 8.  8.2 8.2 8.3 8.5]\n",
      "8.209999999999999\n"
     ]
    }
   ],
   "source": [
    "print(best_C)\n",
    "print(np.mean(best_C))"
   ]
  },
  {
   "cell_type": "code",
   "execution_count": 32,
   "metadata": {},
   "outputs": [
    {
     "name": "stdout",
     "output_type": "stream",
     "text": [
      "[0.29 0.29 0.25 0.22 0.22 0.29 0.22 0.22 0.22 0.22]\n",
      "0.244\n"
     ]
    }
   ],
   "source": [
    "print(best_gamma)\n",
    "print(np.mean(best_gamma))"
   ]
  },
  {
   "cell_type": "code",
   "execution_count": 43,
   "metadata": {},
   "outputs": [
    {
     "data": {
      "text/plain": [
       "<matplotlib.legend.Legend at 0xb9d8b38>"
      ]
     },
     "execution_count": 43,
     "metadata": {},
     "output_type": "execute_result"
    },
    {
     "data": {
      "image/png": "[encoded data removed]",
      "text/plain": [
       "<Figure size 432x288 with 1 Axes>"
      ]
     },
     "metadata": {},
     "output_type": "display_data"
    }
   ],
   "source": [
    "# Plot scores on each trial for nested and non-nested CV\n",
    "plt.figure()\n",
    "plt.subplot(211)\n",
    "non_nested_scores_line, = plt.plot(non_nested_scores, color='r')\n",
    "nested_line, = plt.plot(nested_scores, color='b')\n",
    "plt.ylabel(\"score\", fontsize=\"14\")\n",
    "plt.legend([non_nested_scores_line, nested_line],\n",
    "           [\"CV\", \"Nested CV\"],\n",
    "           loc='upper center', bbox_to_anchor=(0.5, 1.05),\n",
    "          ncol=3, fancybox=True, shadow=True)\n"
   ]
  },
  {
   "cell_type": "code",
   "execution_count": 44,
   "metadata": {},
   "outputs": [
    {
     "data": {
      "text/plain": [
       "Text(0,0.5,'score difference')"
      ]
     },
     "execution_count": 44,
     "metadata": {},
     "output_type": "execute_result"
    },
    {
     "data": {
      "image/png": "[encoded data removed]",
      "text/plain": [
       "<Figure size 432x288 with 1 Axes>"
      ]
     },
     "metadata": {},
     "output_type": "display_data"
    }
   ],
   "source": [
    "#Plot bar chart of the difference.\n",
    "plt.subplot(211)\n",
    "difference_plot = plt.bar(range(NUM_TRIALS), score_difference)\n",
    "plt.xlabel(\"Individual Trial #\")\n",
    "plt.legend([difference_plot],\n",
    "           [\"CV - Nested CV Score\"],\n",
    "           bbox_to_anchor=(0, 1, .8, 0))\n",
    "plt.ylabel(\"score difference\", fontsize=\"14\")"
   ]
  },
  {
   "cell_type": "code",
   "execution_count": null,
   "metadata": {},
   "outputs": [],
   "source": []
  },
  {
   "cell_type": "code",
   "execution_count": null,
   "metadata": {},
   "outputs": [],
   "source": []
  },
  {
   "cell_type": "code",
   "execution_count": null,
   "metadata": {},
   "outputs": [],
   "source": []
  },
  {
   "cell_type": "code",
   "execution_count": null,
   "metadata": {},
   "outputs": [],
   "source": []
  },
  {
   "cell_type": "markdown",
   "metadata": {},
   "source": [
    "##### Graphs for results"
   ]
  },
  {
   "cell_type": "code",
   "execution_count": 50,
   "metadata": {},
   "outputs": [
    {
     "data": {
      "image/png": "[encoded data removed]",
      "text/plain": [
       "<Figure size 432x288 with 1 Axes>"
      ]
     },
     "metadata": {},
     "output_type": "display_data"
    }
   ],
   "source": [
    "#Examples/c\n",
    "\n",
    "examples = [683, 1372, 476, 476, 2000, 2000]\n",
    "C = [0.57, 2.25, 4.195, 5.5, 6, 8.2]\n",
    "\n",
    "\n",
    "\n",
    "fig = plt.figure()\n",
    "fig.suptitle(\"increasing C with increasing examples\")\n",
    "plt.subplot(211)\n",
    "plt.errorbar(x=C, y=examples, marker='x')\n",
    "\n",
    "plt.xlabel('C value')\n",
    "plt.ylabel('Number of Examples')\n",
    "plt.show()"
   ]
  },
  {
   "cell_type": "code",
   "execution_count": 54,
   "metadata": {},
   "outputs": [
    {
     "data": {
      "image/png": "[encoded data removed]",
      "text/plain": [
       "<Figure size 432x288 with 1 Axes>"
      ]
     },
     "metadata": {},
     "output_type": "display_data"
    }
   ],
   "source": [
    "#Examples/gamma\n",
    "examples = [476, 683, 476, 2000, 2000, 1372]\n",
    "gamma = [0.17, 0.18, 0.183, 0.244, 0.26, 0.28]\n",
    "\n",
    "fig = plt.figure()\n",
    "fig.suptitle(\"increasing gamma with increasing examples\")\n",
    "plt.subplot(211)\n",
    "plt.errorbar(x=gamma, y=examples, marker='x')\n",
    "\n",
    "plt.xlabel('gamma value')\n",
    "plt.ylabel('Number of Examples')\n",
    "plt.show()\n"
   ]
  },
  {
   "cell_type": "code",
   "execution_count": 52,
   "metadata": {},
   "outputs": [
    {
     "data": {
      "image/png": "[encoded data removed]",
      "text/plain": [
       "<Figure size 432x288 with 1 Axes>"
      ]
     },
     "metadata": {},
     "output_type": "display_data"
    }
   ],
   "source": [
    "#Features/c\n",
    "features = [10, 4, 166, 166, 7, 166]\n",
    "C = [0.57, 2.25, 4.195, 5.5, 6, 8.2]\n",
    "\n",
    "fig = plt.figure()\n",
    "fig.suptitle(\"increasing C with increasing features\")\n",
    "plt.subplot(211)\n",
    "plt.errorbar(x=C, y=features, marker='x')\n",
    "\n",
    "plt.xlabel('C value')\n",
    "plt.ylabel('Number of Features')\n",
    "plt.show()\n",
    "\n"
   ]
  },
  {
   "cell_type": "code",
   "execution_count": 53,
   "metadata": {},
   "outputs": [
    {
     "data": {
      "image/png": "[encoded data removed]",
      "text/plain": [
       "<Figure size 432x288 with 1 Axes>"
      ]
     },
     "metadata": {},
     "output_type": "display_data"
    }
   ],
   "source": [
    "#Features/g\n",
    "\n",
    "features = [166, 10, 166, 166, 7, 4]\n",
    "gamma = [0.17, 0.18, 0.183, 0.244,  0.26, 0.28]\n",
    "\n",
    "fig = plt.figure()\n",
    "fig.suptitle(\"increasing gamma with increasing features\")\n",
    "plt.subplot(211)\n",
    "plt.errorbar(x=gamma, y=features, marker='x')\n",
    "\n",
    "plt.xlabel('gamma value')\n",
    "plt.ylabel('Number of Features')\n",
    "plt.show()\n"
   ]
  },
  {
   "cell_type": "code",
   "execution_count": null,
   "metadata": {},
   "outputs": [],
   "source": []
  },
  {
   "cell_type": "code",
   "execution_count": null,
   "metadata": {},
   "outputs": [],
   "source": []
  }
 ],
 "metadata": {
  "kernelspec": {
   "display_name": "Python 3",
   "language": "python",
   "name": "python3"
  },
  "language_info": {
   "codemirror_mode": {
    "name": "ipython",
    "version": 3
   },
   "file_extension": ".py",
   "mimetype": "text/x-python",
   "name": "python",
   "nbconvert_exporter": "python",
   "pygments_lexer": "ipython3",
   "version": "3.6.5"
  }
 },
 "nbformat": 4,
 "nbformat_minor": 2
}
